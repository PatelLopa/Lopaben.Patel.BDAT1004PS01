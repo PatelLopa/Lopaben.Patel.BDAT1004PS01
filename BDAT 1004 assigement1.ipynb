{
 "cells": [
  {
   "cell_type": "markdown",
   "id": "d7be80f4",
   "metadata": {},
   "source": [
    "question :1\n",
    "    "
   ]
  },
  {
   "cell_type": "code",
   "execution_count": 1,
   "id": "1aad5d1d",
   "metadata": {},
   "outputs": [
    {
     "name": "stdout",
     "output_type": "stream",
     "text": [
      "<class 'int'>\n",
      "<class 'float'>\n",
      "True\n",
      "<class 'bool'>\n",
      "<class 'str'>\n",
      "10\n",
      "<class 'int'>\n",
      "<class 'str'>\n",
      "<class 'str'>\n",
      "2.5\n",
      "<class 'float'>\n",
      "1\n",
      "<class 'int'>\n",
      "<class 'set'>\n",
      "False\n",
      "<class 'bool'>\n",
      "<class 'float'>\n"
     ]
    }
   ],
   "source": [
    "print(type(5))      \n",
    "print(type(5.0))\n",
    "print(5 > 1)\n",
    "print(type(5>1))\n",
    "print(type('5'))\n",
    "print(5 * 2)\n",
    "print(type(5 * 2))\n",
    "print(type('5' * 2))\n",
    "print(type('5' + '2'))\n",
    "print(5 / 2)\n",
    "print(type(5 / 2))\n",
    "print(5 % 2)\n",
    "print(type(5 % 2))\n",
    "print(type({5, 2, 1}))\n",
    "print(5 == 3)\n",
    "print(type(5 == 3))\n",
    "print(type(3.14))"
   ]
  },
  {
   "cell_type": "markdown",
   "id": "2bb94522",
   "metadata": {},
   "source": [
    "question 2"
   ]
  },
  {
   "cell_type": "code",
   "execution_count": 2,
   "id": "7cb0fff9",
   "metadata": {},
   "outputs": [
    {
     "name": "stdout",
     "output_type": "stream",
     "text": [
      "34\n"
     ]
    }
   ],
   "source": [
    "word = 'Supercalifragilisticexpialidocious';\n",
    "print(len(word));\n"
   ]
  },
  {
   "cell_type": "code",
   "execution_count": 3,
   "id": "f581814d",
   "metadata": {},
   "outputs": [
    {
     "name": "stdout",
     "output_type": "stream",
     "text": [
      "True\n"
     ]
    }
   ],
   "source": [
    "word =  'Supercalifragilisticexpialidocious' ;\n",
    "print('ice' in 'Supercalifragilisticexpialidocious' )"
   ]
  },
  {
   "cell_type": "code",
   "execution_count": 4,
   "id": "75481684",
   "metadata": {},
   "outputs": [
    {
     "name": "stdout",
     "output_type": "stream",
     "text": [
      "Supercalifragilisticexpialidocious\n"
     ]
    }
   ],
   "source": [
    "words = ['Supercalifragilisticexpialidocious','Honorificabilitudinitatibus',\n",
    "        'Bababadalgharaghtakamminarronnkonn']\n",
    "max = max(words)\n",
    "print(max)"
   ]
  },
  {
   "cell_type": "code",
   "execution_count": 5,
   "id": "dd1081b7",
   "metadata": {},
   "outputs": [
    {
     "name": "stdout",
     "output_type": "stream",
     "text": [
      "['Bartok', 'Bellini', 'Berlioz', 'Bernstein', 'Borodin', 'Brian', 'Buxtehude']\n"
     ]
    }
   ],
   "source": [
    "dict= ('Berlioz', 'Borodin', 'Brian',\n",
    "'Bartok', 'Bellini', 'Buxtehude', 'Bernstein')\n",
    "\n",
    "x = sorted(dict)\n",
    "\n",
    "print(x)"
   ]
  },
  {
   "cell_type": "markdown",
   "id": "11515c91",
   "metadata": {},
   "source": [
    "question 3"
   ]
  },
  {
   "cell_type": "code",
   "execution_count": 6,
   "id": "a96f817a",
   "metadata": {},
   "outputs": [
    {
     "name": "stdout",
     "output_type": "stream",
     "text": [
      "Enter first side: 7\n",
      "Enter Second side: 9\n",
      "Enter Third side: 11\n",
      "Area of Triangle is: 31.419540098480116\n"
     ]
    }
   ],
   "source": [
    "import math #import math library\n",
    "\n",
    "a=float(input('Enter first side: '))  #first side\n",
    "b=float(input('Enter Second side: '))  #second side\n",
    "c=float(input('Enter Third side: '))  #Third side\n",
    "\n",
    "s = (a+b+c)/2\n",
    "print(\"Area of Triangle is:\",math.sqrt(s*(s - a)*(s -b)*(s -c))) #Area of Triangle"
   ]
  },
  {
   "cell_type": "markdown",
   "id": "28e7bc57",
   "metadata": {},
   "source": [
    "question 4"
   ]
  },
  {
   "cell_type": "code",
   "execution_count": 7,
   "id": "e27cd874",
   "metadata": {},
   "outputs": [
    {
     "name": "stdout",
     "output_type": "stream",
     "text": [
      "Enter number of elements :5\n",
      "11\n",
      "42\n",
      "56\n",
      "17\n",
      "3\n",
      "\n",
      "Entered numbers are: [11, 42, 56, 17, 3]\n",
      "\n",
      "Even numbers are: [42, 56]\n",
      "\n",
      "Odd numbers are: [11, 17, 3]\n"
     ]
    }
   ],
   "source": [
    "number= [] #Array to take number of elements\n",
    "even=[] #Array to get even numbers\n",
    "odd=[] #Array to get odd numbers\n",
    "  \n",
    "# number of elements as input\n",
    "n = int(input(\"Enter number of elements :\"))\n",
    "  \n",
    "# Get number of inputs till the range.\n",
    "for i in range(0, n):\n",
    "    a= int(input())\n",
    "  \n",
    "    number.append(a) # adding the element to number.\n",
    "      \n",
    "print(\"\\nEntered numbers are:\", number) #Entered elements.\n",
    "\n",
    "for i in number:\n",
    "    if i%2 == 0:\n",
    "        even.append(i);\n",
    "    else:\n",
    "        odd.append(i);\n",
    "print(\"\\nEven numbers are:\",even) #Even Numbers\n",
    "print(\"\\nOdd numbers are:\",odd) #Odd numbers"
   ]
  },
  {
   "cell_type": "markdown",
   "id": "ac2dfa9c",
   "metadata": {},
   "source": [
    "question 5"
   ]
  },
  {
   "cell_type": "code",
   "execution_count": 8,
   "id": "31f06c68",
   "metadata": {},
   "outputs": [
    {
     "name": "stdout",
     "output_type": "stream",
     "text": [
      "True\n",
      "False\n",
      "False\n",
      "given points are not making rectangle\n"
     ]
    }
   ],
   "source": [
    "def inside(x, y, x1, y1, x2, y2):\n",
    "    if (x >= x1 and x <= x2 and y >= y1 and y <= y2):\n",
    "        print(\"True\")\n",
    "    else:\n",
    "        print(\"False\") \n",
    "inside(1,1,0,0,2,3)\n",
    "inside(-1,-1,0,0,2,3)\n",
    "\n",
    "if ((inside(1,1,0.3,0.5,1.1,0.7)) and (inside(1,1,0.5,0.2,1.1,2))):\n",
    "    print(\"given points are making rectangle\")\n",
    "else:\n",
    "    print(\"given points are not making rectangle\")"
   ]
  },
  {
   "cell_type": "markdown",
   "id": "315ea469",
   "metadata": {},
   "source": [
    "question 6"
   ]
  },
  {
   "cell_type": "code",
   "execution_count": 9,
   "id": "e1f6cab2",
   "metadata": {},
   "outputs": [
    {
     "name": "stdout",
     "output_type": "stream",
     "text": [
      "Enter Word : sky\n",
      "kysay\n",
      "Enter Word : happy\n",
      "appyhay\n"
     ]
    }
   ],
   "source": [
    "def pig(str):\n",
    "    \n",
    "    vowel = ['a','e','i','o','u']\n",
    "    firstchar = str[0]\n",
    "    if(firstchar in vowel):\n",
    "        str = str + 'way'\n",
    "    else:\n",
    "        str = str[1:len(str)] + str[0] + 'ay'\n",
    "    return str\n",
    "\n",
    "word_1 = input(\"Enter Word : \")\n",
    "print(pig(word_1))\n",
    "\n",
    "word_2 = input(\"Enter Word : \")\n",
    "print(pig(word_2))"
   ]
  },
  {
   "cell_type": "markdown",
   "id": "a210ad29",
   "metadata": {},
   "source": [
    "question 7"
   ]
  },
  {
   "cell_type": "code",
   "execution_count": 10,
   "id": "cd8c8839",
   "metadata": {},
   "outputs": [
    {
     "name": "stdout",
     "output_type": "stream",
     "text": [
      "AB AB B O A A AB O AB A O O A A A O O O AB O A A A A A AB AB A AB O AB O A O O O AB O AB AB AB A A O \n",
      "\n",
      "there are 13 patients of blood type AB\n",
      "there are 15 patients of blood type A\n",
      "there are 1 patients of blood type B\n",
      "there are 15 patients of blood type O\n",
      "there are 0 patients of blood type OO\n"
     ]
    }
   ],
   "source": [
    "a=open(\"bloodtype.txt\")\n",
    "data=a.read()\n",
    "print(data)\n",
    "\n",
    "bloodlist=data.split()\n",
    "\n",
    "AB=0\n",
    "B=0\n",
    "A=0\n",
    "O=0\n",
    "OO=0\n",
    "\n",
    "for i in range(len(bloodlist)):\n",
    "    if(bloodlist[i] == 'AB'):\n",
    "        AB= AB+1\n",
    "    elif(bloodlist[i] == 'B'):\n",
    "        B= B+1\n",
    "    elif(bloodlist[i]=='A'):\n",
    "        A= A+1\n",
    "    elif(bloodlist[i]=='O'):\n",
    "        O= O+1\n",
    "    elif(bloodlist[i]=='OO'):\n",
    "        OO=OO+1\n",
    "        \n",
    "print(\"there are {} patients of blood type AB\".format(AB))\n",
    "print(\"there are {} patients of blood type A\".format(A))\n",
    "print(\"there are {} patients of blood type B\".format(B))\n",
    "print(\"there are {} patients of blood type O\".format(O))\n",
    "print(\"there are {} patients of blood type OO\".format(OO))\n",
    "\n",
    "a.close()"
   ]
  },
  {
   "cell_type": "markdown",
   "id": "ac6ab359",
   "metadata": {},
   "source": [
    "question 8"
   ]
  },
  {
   "cell_type": "code",
   "execution_count": 12,
   "id": "04c0d8de",
   "metadata": {},
   "outputs": [
    {
     "name": "stdout",
     "output_type": "stream",
     "text": [
      "Enter the currency code from above list:EUR\n",
      "Enter the amount to be converted:100\n",
      "122.96544\n"
     ]
    }
   ],
   "source": [
    "file = open(\"currencies.txt\",\"r\")\n",
    "file = file.readlines()\n",
    "\n",
    "def curconv (cur,amount,d):\n",
    " print((d[cur.upper()])*(int(amount)))\n",
    "d ={\"AUD\":1.034157,\"CHF\":1.0237414,\"CNY\":0.1550176,\"DKK\":0.1651442,\"EUR\":1.2296544,\"GBP\":1.5550989,\"HKD\":0.1270207,\"INR\":0.0177643,\"JPY\":0.01241401,\"MXN\":0.0751848,\"MYR\":0.3145411,\"NOK\":0.1677063,\"NZD\":0.8003591,\"PHP\":0.0233234,\"SEK\":0.148269,\"SGD\":0.788871,\"THB\":0.0313789}\n",
    "cur=input(\"Enter the currency code from above list:\")\n",
    "amount = int(input(\"Enter the amount to be converted:\"))\n",
    "curconv(cur,amount,d)"
   ]
  },
  {
   "cell_type": "markdown",
   "id": "a4b2fe35",
   "metadata": {},
   "source": [
    "question 9"
   ]
  },
  {
   "cell_type": "code",
   "execution_count": 13,
   "id": "1a5c9615",
   "metadata": {},
   "outputs": [
    {
     "name": "stdout",
     "output_type": "stream",
     "text": [
      "<class 'TypeError'>\n",
      "<class 'IndexError'>\n",
      "<class 'ValueError'>\n",
      "['Bartok', 'Bellini', 'Berlioz', 'Bernstein', 'Borodin', 'Brian', 'Buxtehude']\n",
      "<class 'FileNotFoundError'>\n"
     ]
    }
   ],
   "source": [
    "try:\n",
    "    add = 6 + 'a'  \n",
    "except Exception as exception:\n",
    "    first = type(exception)\n",
    "    print(first)\n",
    "    \n",
    "\n",
    "\n",
    "second = ['l','o','p','a','t','p','a','t','e','l']\n",
    "try:\n",
    "    print(second[12])    \n",
    "except Exception as exception:\n",
    "    second = type(exception)\n",
    "    print(second)\n",
    "\n",
    "\n",
    "import math\n",
    "try:\n",
    "    math.sqrt(-1.0)\n",
    "except Exception as exception:\n",
    "    third = type(exception)\n",
    "    print(third)\n",
    "\n",
    "\n",
    "try:\n",
    "    print(x)\n",
    "except Exception as exception:\n",
    "    forth = type(exception)\n",
    "    print(forth)\n",
    "\n",
    "\n",
    "try:\n",
    "    file = open(\"tarun.txt\")\n",
    "except Exception as exception:\n",
    "    fifth = type(exception)\n",
    "    print(fifth)"
   ]
  },
  {
   "cell_type": "markdown",
   "id": "b0887233",
   "metadata": {},
   "source": [
    "question 10"
   ]
  },
  {
   "cell_type": "code",
   "execution_count": 14,
   "id": "48ce4015",
   "metadata": {},
   "outputs": [
    {
     "name": "stdout",
     "output_type": "stream",
     "text": [
      "Enter Sentence :The quick red fox got bored and went home\n",
      "[1, 1, 1, 3, 5, 1, 1, 2, 1, 0, 1, 0, 1, 2, 4, 0, 1, 2, 0, 2, 1, 0, 1, 1, 0, 0]\n"
     ]
    }
   ],
   "source": [
    "qus10 = 'abcdefghijklmnopqrstuvwxyz'\n",
    "\n",
    "\n",
    "def frequencies(sentence):\n",
    "    letterCount =[]\n",
    "    \n",
    "    for char in qus10:\n",
    "        charCount = 0\n",
    "        for i in range(0,len(sentence)):\n",
    "            if(char == sentence[i]):\n",
    "                charCount = charCount + 1\n",
    "        letterCount.append(charCount)\n",
    "    return letterCount\n",
    "string = input(\"Enter Sentence :\")\n",
    "word = frequencies(string)\n",
    "print(word)"
   ]
  },
  {
   "cell_type": "code",
   "execution_count": null,
   "id": "e4a6ecb1",
   "metadata": {},
   "outputs": [],
   "source": []
  }
 ],
 "metadata": {
  "kernelspec": {
   "display_name": "Python 3 (ipykernel)",
   "language": "python",
   "name": "python3"
  },
  "language_info": {
   "codemirror_mode": {
    "name": "ipython",
    "version": 3
   },
   "file_extension": ".py",
   "mimetype": "text/x-python",
   "name": "python",
   "nbconvert_exporter": "python",
   "pygments_lexer": "ipython3",
   "version": "3.10.9"
  }
 },
 "nbformat": 4,
 "nbformat_minor": 5
}
